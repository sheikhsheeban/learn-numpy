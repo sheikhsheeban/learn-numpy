{
  "nbformat": 4,
  "nbformat_minor": 0,
  "metadata": {
    "colab": {
      "name": "numpyfull.ipynb",
      "provenance": []
    },
    "kernelspec": {
      "name": "python3",
      "display_name": "Python 3"
    },
    "language_info": {
      "name": "python"
    }
  },
  "cells": [
    {
      "cell_type": "markdown",
      "metadata": {
        "id": "x5EUZAUP5ZRR"
      },
      "source": [
        "# **NumPy Arrays**"
      ]
    },
    {
      "cell_type": "code",
      "metadata": {
        "id": "Njet8RMSuLAu"
      },
      "source": [
        "# List using python\n",
        "my_list = [1,2,3]"
      ],
      "execution_count": 1,
      "outputs": []
    },
    {
      "cell_type": "code",
      "metadata": {
        "id": "zUZY7awPvmlF"
      },
      "source": [
        "# Import NumPy  \n",
        "import numpy as np"
      ],
      "execution_count": 5,
      "outputs": []
    },
    {
      "cell_type": "code",
      "metadata": {
        "id": "eY5vFL9nvyfj"
      },
      "source": [
        "# Creating array from a regular Python list\n",
        "arr=np.array(my_list)"
      ],
      "execution_count": 7,
      "outputs": []
    },
    {
      "cell_type": "code",
      "metadata": {
        "colab": {
          "base_uri": "https://localhost:8080/"
        },
        "id": "CbobX6-VwKoE",
        "outputId": "d9cfa1bd-eaf3-4d84-e479-d94bbf94c827"
      },
      "source": [
        "arr"
      ],
      "execution_count": 9,
      "outputs": [
        {
          "output_type": "execute_result",
          "data": {
            "text/plain": [
              "array([1, 2, 3])"
            ]
          },
          "metadata": {},
          "execution_count": 9
        }
      ]
    },
    {
      "cell_type": "code",
      "metadata": {
        "colab": {
          "base_uri": "https://localhost:8080/"
        },
        "id": "oaEK5M5zwzva",
        "outputId": "5f9d4461-9909-4971-8ca5-ee35e9889af9"
      },
      "source": [
        "# Creating 2d-array from  a regular 2d- Python list\n",
        "my_mat=[[1,2,3],[4,5,6],[7,8,9]]\n",
        "my_arr=np.array(my_mat)\n",
        "my_arr"
      ],
      "execution_count": 48,
      "outputs": [
        {
          "output_type": "execute_result",
          "data": {
            "text/plain": [
              "array([[1, 2, 3],\n",
              "       [4, 5, 6],\n",
              "       [7, 8, 9]])"
            ]
          },
          "metadata": {},
          "execution_count": 48
        }
      ]
    },
    {
      "cell_type": "code",
      "metadata": {
        "colab": {
          "base_uri": "https://localhost:8080/"
        },
        "id": "nGCXalCFxM6K",
        "outputId": "b5c5326b-f4c8-4542-aa5f-c26f7e407c2c"
      },
      "source": [
        "# To create sequences of numbers, NumPy provides the arange function which is \n",
        "# analogous to the Python built-in range, but returns an array\n",
        "np.arange(0,10,dtype=float)"
      ],
      "execution_count": 15,
      "outputs": [
        {
          "output_type": "execute_result",
          "data": {
            "text/plain": [
              "array([0., 1., 2., 3., 4., 5., 6., 7., 8., 9.])"
            ]
          },
          "metadata": {},
          "execution_count": 15
        }
      ]
    },
    {
      "cell_type": "code",
      "metadata": {
        "colab": {
          "base_uri": "https://localhost:8080/"
        },
        "id": "a0Lj4FM0xh05",
        "outputId": "978c4052-5be9-4d4e-e02c-dd896a3149a3"
      },
      "source": [
        "# The function zeros creates an array full of zeros\n",
        "np.zeros(3)"
      ],
      "execution_count": 16,
      "outputs": [
        {
          "output_type": "execute_result",
          "data": {
            "text/plain": [
              "array([0., 0., 0.])"
            ]
          },
          "metadata": {},
          "execution_count": 16
        }
      ]
    },
    {
      "cell_type": "code",
      "metadata": {
        "colab": {
          "base_uri": "https://localhost:8080/"
        },
        "id": "GpO7vEsLxoEK",
        "outputId": "ff31b449-4ddb-4d2e-b777-59094c8d9fe2"
      },
      "source": [
        "np.zeros((5,5))"
      ],
      "execution_count": 47,
      "outputs": [
        {
          "output_type": "execute_result",
          "data": {
            "text/plain": [
              "array([[0., 0., 0., 0., 0.],\n",
              "       [0., 0., 0., 0., 0.],\n",
              "       [0., 0., 0., 0., 0.],\n",
              "       [0., 0., 0., 0., 0.],\n",
              "       [0., 0., 0., 0., 0.]])"
            ]
          },
          "metadata": {},
          "execution_count": 47
        }
      ]
    },
    {
      "cell_type": "code",
      "metadata": {
        "colab": {
          "base_uri": "https://localhost:8080/"
        },
        "id": "gfhlYuN8xtSK",
        "outputId": "dc0c82f0-34b0-455e-8d50-a7c4592ab9aa"
      },
      "source": [
        "# The function ones crates an arry full of ones\n",
        "np.ones(4)"
      ],
      "execution_count": 18,
      "outputs": [
        {
          "output_type": "execute_result",
          "data": {
            "text/plain": [
              "array([1., 1., 1., 1.])"
            ]
          },
          "metadata": {},
          "execution_count": 18
        }
      ]
    },
    {
      "cell_type": "code",
      "metadata": {
        "colab": {
          "base_uri": "https://localhost:8080/"
        },
        "id": "u7msAFMQxzqy",
        "outputId": "f87188a7-1b75-467e-bb12-9f922a2dcee8"
      },
      "source": [
        "np.ones((2,3))"
      ],
      "execution_count": 19,
      "outputs": [
        {
          "output_type": "execute_result",
          "data": {
            "text/plain": [
              "array([[1., 1., 1.],\n",
              "       [1., 1., 1.]])"
            ]
          },
          "metadata": {},
          "execution_count": 19
        }
      ]
    },
    {
      "cell_type": "code",
      "metadata": {
        "colab": {
          "base_uri": "https://localhost:8080/"
        },
        "id": "t1d38Ets8ICQ",
        "outputId": "66f42eb9-9d58-4533-a73b-314aee746461"
      },
      "source": [
        "# linspace is used for creating numeric sequence i.e it creates sequence of \n",
        "# evenly spaced numbers structured as a NumPy array.\n",
        "np.linspace(0,5,10)"
      ],
      "execution_count": 49,
      "outputs": [
        {
          "output_type": "execute_result",
          "data": {
            "text/plain": [
              "array([0.        , 0.55555556, 1.11111111, 1.66666667, 2.22222222,\n",
              "       2.77777778, 3.33333333, 3.88888889, 4.44444444, 5.        ])"
            ]
          },
          "metadata": {},
          "execution_count": 49
        }
      ]
    },
    {
      "cell_type": "code",
      "metadata": {
        "colab": {
          "base_uri": "https://localhost:8080/"
        },
        "id": "BYyDbjqDx5g-",
        "outputId": "33fa6e04-b9f0-4f2e-f267-c0cb921990a9"
      },
      "source": [
        "np.linspace(0,5,100)"
      ],
      "execution_count": 21,
      "outputs": [
        {
          "output_type": "execute_result",
          "data": {
            "text/plain": [
              "array([0.        , 0.05050505, 0.1010101 , 0.15151515, 0.2020202 ,\n",
              "       0.25252525, 0.3030303 , 0.35353535, 0.4040404 , 0.45454545,\n",
              "       0.50505051, 0.55555556, 0.60606061, 0.65656566, 0.70707071,\n",
              "       0.75757576, 0.80808081, 0.85858586, 0.90909091, 0.95959596,\n",
              "       1.01010101, 1.06060606, 1.11111111, 1.16161616, 1.21212121,\n",
              "       1.26262626, 1.31313131, 1.36363636, 1.41414141, 1.46464646,\n",
              "       1.51515152, 1.56565657, 1.61616162, 1.66666667, 1.71717172,\n",
              "       1.76767677, 1.81818182, 1.86868687, 1.91919192, 1.96969697,\n",
              "       2.02020202, 2.07070707, 2.12121212, 2.17171717, 2.22222222,\n",
              "       2.27272727, 2.32323232, 2.37373737, 2.42424242, 2.47474747,\n",
              "       2.52525253, 2.57575758, 2.62626263, 2.67676768, 2.72727273,\n",
              "       2.77777778, 2.82828283, 2.87878788, 2.92929293, 2.97979798,\n",
              "       3.03030303, 3.08080808, 3.13131313, 3.18181818, 3.23232323,\n",
              "       3.28282828, 3.33333333, 3.38383838, 3.43434343, 3.48484848,\n",
              "       3.53535354, 3.58585859, 3.63636364, 3.68686869, 3.73737374,\n",
              "       3.78787879, 3.83838384, 3.88888889, 3.93939394, 3.98989899,\n",
              "       4.04040404, 4.09090909, 4.14141414, 4.19191919, 4.24242424,\n",
              "       4.29292929, 4.34343434, 4.39393939, 4.44444444, 4.49494949,\n",
              "       4.54545455, 4.5959596 , 4.64646465, 4.6969697 , 4.74747475,\n",
              "       4.7979798 , 4.84848485, 4.8989899 , 4.94949495, 5.        ])"
            ]
          },
          "metadata": {},
          "execution_count": 21
        }
      ]
    },
    {
      "cell_type": "code",
      "metadata": {
        "colab": {
          "base_uri": "https://localhost:8080/"
        },
        "id": "5tLW6RJyyUVi",
        "outputId": "797a559b-1c36-4488-f2ce-d8942e36f5a7"
      },
      "source": [
        "# The eye tool returns a 2-D array with 1's as the diagonal and 0's elsewhere.\n",
        "np.eye(4)"
      ],
      "execution_count": 22,
      "outputs": [
        {
          "output_type": "execute_result",
          "data": {
            "text/plain": [
              "array([[1., 0., 0., 0.],\n",
              "       [0., 1., 0., 0.],\n",
              "       [0., 0., 1., 0.],\n",
              "       [0., 0., 0., 1.]])"
            ]
          },
          "metadata": {},
          "execution_count": 22
        }
      ]
    },
    {
      "cell_type": "code",
      "metadata": {
        "colab": {
          "base_uri": "https://localhost:8080/"
        },
        "id": "25SzRzutydiV",
        "outputId": "10fceb21-eeaa-4914-fa37-637f00252c25"
      },
      "source": [
        "# The numpy. random. rand() function creates an array of specified shape and \n",
        "# fills it with random values\n",
        "\n",
        "np.random.rand(5) # 1d array"
      ],
      "execution_count": 23,
      "outputs": [
        {
          "output_type": "execute_result",
          "data": {
            "text/plain": [
              "array([0.59582678, 0.84998178, 0.54932707, 0.05559453, 0.82195989])"
            ]
          },
          "metadata": {},
          "execution_count": 23
        }
      ]
    },
    {
      "cell_type": "code",
      "metadata": {
        "colab": {
          "base_uri": "https://localhost:8080/"
        },
        "id": "r5zqQLeNy2bm",
        "outputId": "10c97425-4d6b-41d5-8acc-0f044e5fb0d8"
      },
      "source": [
        "np.random.rand(5,5) # 2d array"
      ],
      "execution_count": 24,
      "outputs": [
        {
          "output_type": "execute_result",
          "data": {
            "text/plain": [
              "array([[0.80091107, 0.05424891, 0.16301598, 0.77576206, 0.12012708],\n",
              "       [0.37973699, 0.66225828, 0.58728271, 0.54452918, 0.34400737],\n",
              "       [0.34723211, 0.61560674, 0.345057  , 0.44624925, 0.12444165],\n",
              "       [0.10254242, 0.78065702, 0.1145859 , 0.83306992, 0.32604837],\n",
              "       [0.28449157, 0.32397391, 0.84649714, 0.7464977 , 0.3922935 ]])"
            ]
          },
          "metadata": {},
          "execution_count": 24
        }
      ]
    },
    {
      "cell_type": "code",
      "metadata": {
        "colab": {
          "base_uri": "https://localhost:8080/"
        },
        "id": "VLNi6V2ey7z9",
        "outputId": "a6432e12-1453-481d-ca8c-5572dae06c73"
      },
      "source": [
        "# \" The numpy. random. randn() function creates an array of specified shape and \n",
        "# fills it with random values as per standard normal distribution \"\n",
        "np.random.randn(2) # 1d array"
      ],
      "execution_count": 25,
      "outputs": [
        {
          "output_type": "execute_result",
          "data": {
            "text/plain": [
              "array([ 0.29224951, -0.79786178])"
            ]
          },
          "metadata": {},
          "execution_count": 25
        }
      ]
    },
    {
      "cell_type": "code",
      "metadata": {
        "colab": {
          "base_uri": "https://localhost:8080/"
        },
        "id": "mSro8BTbzEjA",
        "outputId": "6357ca9c-e32b-4c48-a1a1-1abceb1cebc9"
      },
      "source": [
        "np.random.randn(4,4) # 2d array"
      ],
      "execution_count": 26,
      "outputs": [
        {
          "output_type": "execute_result",
          "data": {
            "text/plain": [
              "array([[-0.5431313 ,  1.18594408, -0.56830742, -0.49224302],\n",
              "       [-0.43718842,  0.33156103,  0.06658686, -1.40782067],\n",
              "       [-0.51971462, -0.26475393, -0.92260825, -1.6515525 ],\n",
              "       [-0.38818038,  1.37574441, -0.38083613,  0.77691999]])"
            ]
          },
          "metadata": {},
          "execution_count": 26
        }
      ]
    },
    {
      "cell_type": "code",
      "metadata": {
        "colab": {
          "base_uri": "https://localhost:8080/"
        },
        "id": "t-gGnAbKzIfN",
        "outputId": "748c3b88-d9fe-417c-af40-7d961147711e"
      },
      "source": [
        "# np.random.randint() is the function for doing random sampling in numpy and it\n",
        "# returns an array of specified shape and fills it with random integers form\n",
        "# low to high i.e in the interval [low, high]\n",
        "np.random.randint(1,100,10)"
      ],
      "execution_count": 28,
      "outputs": [
        {
          "output_type": "execute_result",
          "data": {
            "text/plain": [
              "array([41, 74, 26, 50, 94, 57, 66, 20, 27, 77])"
            ]
          },
          "metadata": {},
          "execution_count": 28
        }
      ]
    },
    {
      "cell_type": "code",
      "metadata": {
        "id": "sI4kHRN_zUdh"
      },
      "source": [
        "new_arr=np.arange(25)"
      ],
      "execution_count": 31,
      "outputs": []
    },
    {
      "cell_type": "code",
      "metadata": {
        "colab": {
          "base_uri": "https://localhost:8080/"
        },
        "id": "LmtRizgazjiV",
        "outputId": "52b0cf1a-a2a3-4e3f-b014-7213c402b44d"
      },
      "source": [
        "new_arr"
      ],
      "execution_count": 32,
      "outputs": [
        {
          "output_type": "execute_result",
          "data": {
            "text/plain": [
              "array([ 0,  1,  2,  3,  4,  5,  6,  7,  8,  9, 10, 11, 12, 13, 14, 15, 16,\n",
              "       17, 18, 19, 20, 21, 22, 23, 24])"
            ]
          },
          "metadata": {},
          "execution_count": 32
        }
      ]
    },
    {
      "cell_type": "code",
      "metadata": {
        "id": "wo353LbczlCy"
      },
      "source": [
        "ran_new_arr=np.random.randint(0,50,10)"
      ],
      "execution_count": 33,
      "outputs": []
    },
    {
      "cell_type": "code",
      "metadata": {
        "colab": {
          "base_uri": "https://localhost:8080/"
        },
        "id": "loMEW_qxzuYb",
        "outputId": "4dfe8a24-80d4-48c5-b65b-fff0b9e0fe88"
      },
      "source": [
        "ran_new_arr"
      ],
      "execution_count": 34,
      "outputs": [
        {
          "output_type": "execute_result",
          "data": {
            "text/plain": [
              "array([21, 39, 10, 44,  4,  7, 15,  4, 19, 31])"
            ]
          },
          "metadata": {},
          "execution_count": 34
        }
      ]
    },
    {
      "cell_type": "code",
      "metadata": {
        "colab": {
          "base_uri": "https://localhost:8080/"
        },
        "id": "Q7qGfT_IzwR6",
        "outputId": "e353fd6c-f451-4c24-d6b3-49834be19e0e"
      },
      "source": [
        "# Gives a new shape to an array without changing its data.\n",
        "new_arr.reshape(5,5)"
      ],
      "execution_count": 35,
      "outputs": [
        {
          "output_type": "execute_result",
          "data": {
            "text/plain": [
              "array([[ 0,  1,  2,  3,  4],\n",
              "       [ 5,  6,  7,  8,  9],\n",
              "       [10, 11, 12, 13, 14],\n",
              "       [15, 16, 17, 18, 19],\n",
              "       [20, 21, 22, 23, 24]])"
            ]
          },
          "metadata": {},
          "execution_count": 35
        }
      ]
    }
  ]
}
